{
 "cells": [
  {
   "cell_type": "code",
   "execution_count": 40,
   "metadata": {},
   "outputs": [],
   "source": [
    "import pandas as pd\n",
    "import numpy as np\n",
    "import matplotlib.pyplot as plt\n",
    "import nltk\n",
    "from nltk.tokenize import word_tokenize,wordpunct_tokenize,sent_tokenize \n",
    "from nltk.corpus import stopwords \n",
    "import string\n",
    "from sklearn.feature_extraction.text import CountVectorizer,TfidfTransformer, TfidfVectorizer\n",
    "from sklearn.pipeline import Pipeline\n",
    "from sklearn.naive_bayes import MultinomialNB\n",
    "from sklearn.model_selection import cross_val_score, cross_val_predict\n",
    "from sklearn.model_selection import train_test_split\n",
    "from sklearn.svm import LinearSVC,SVC\n",
    "from sklearn.tree import DecisionTreeClassifier\n",
    "from sklearn.ensemble import RandomForestClassifier\n",
    "from sklearn.metrics import classification_report"
   ]
  },
  {
   "cell_type": "code",
   "execution_count": 41,
   "metadata": {},
   "outputs": [],
   "source": [
    "data = pd.read_csv('Computer_review.csv')"
   ]
  },
  {
   "cell_type": "code",
   "execution_count": 42,
   "metadata": {},
   "outputs": [
    {
     "data": {
      "text/html": [
       "<div>\n",
       "<style scoped>\n",
       "    .dataframe tbody tr th:only-of-type {\n",
       "        vertical-align: middle;\n",
       "    }\n",
       "\n",
       "    .dataframe tbody tr th {\n",
       "        vertical-align: top;\n",
       "    }\n",
       "\n",
       "    .dataframe thead th {\n",
       "        text-align: right;\n",
       "    }\n",
       "</style>\n",
       "<table border=\"1\" class=\"dataframe\">\n",
       "  <thead>\n",
       "    <tr style=\"text-align: right;\">\n",
       "      <th></th>\n",
       "      <th>example_id</th>\n",
       "      <th>text</th>\n",
       "      <th>aspect_term</th>\n",
       "      <th>term_location</th>\n",
       "      <th>class</th>\n",
       "    </tr>\n",
       "  </thead>\n",
       "  <tbody>\n",
       "    <tr>\n",
       "      <th>0</th>\n",
       "      <td>2333_1</td>\n",
       "      <td>Obviously one of the most important features o...</td>\n",
       "      <td>human interface</td>\n",
       "      <td>69--84</td>\n",
       "      <td>0</td>\n",
       "    </tr>\n",
       "    <tr>\n",
       "      <th>1</th>\n",
       "      <td>1805_1</td>\n",
       "      <td>Good for every day computing and web browsing.</td>\n",
       "      <td>every day computing</td>\n",
       "      <td>9--28</td>\n",
       "      <td>1</td>\n",
       "    </tr>\n",
       "    <tr>\n",
       "      <th>2</th>\n",
       "      <td>2782_2</td>\n",
       "      <td>while the keyboard itself is alright[comma] th...</td>\n",
       "      <td>mouse command buttons</td>\n",
       "      <td>115--136</td>\n",
       "      <td>-1</td>\n",
       "    </tr>\n",
       "    <tr>\n",
       "      <th>3</th>\n",
       "      <td>1385_0</td>\n",
       "      <td>Again[comma] the same problem[comma] the right...</td>\n",
       "      <td>right speaker</td>\n",
       "      <td>29--42</td>\n",
       "      <td>-1</td>\n",
       "    </tr>\n",
       "    <tr>\n",
       "      <th>4</th>\n",
       "      <td>1423_0</td>\n",
       "      <td>My problem was with DELL Customer Service.</td>\n",
       "      <td>DELL Customer Service</td>\n",
       "      <td>20--41</td>\n",
       "      <td>-1</td>\n",
       "    </tr>\n",
       "  </tbody>\n",
       "</table>\n",
       "</div>"
      ],
      "text/plain": [
       "  example_id                                               text  \\\n",
       "0     2333_1  Obviously one of the most important features o...   \n",
       "1     1805_1     Good for every day computing and web browsing.   \n",
       "2     2782_2  while the keyboard itself is alright[comma] th...   \n",
       "3     1385_0  Again[comma] the same problem[comma] the right...   \n",
       "4     1423_0         My problem was with DELL Customer Service.   \n",
       "\n",
       "             aspect_term  term_location   class  \n",
       "0        human interface         69--84       0  \n",
       "1    every day computing          9--28       1  \n",
       "2  mouse command buttons       115--136      -1  \n",
       "3          right speaker         29--42      -1  \n",
       "4  DELL Customer Service         20--41      -1  "
      ]
     },
     "execution_count": 42,
     "metadata": {},
     "output_type": "execute_result"
    }
   ],
   "source": [
    "data.head()"
   ]
  },
  {
   "cell_type": "code",
   "execution_count": 43,
   "metadata": {},
   "outputs": [],
   "source": [
    "data_copy = data.copy()"
   ]
  },
  {
   "cell_type": "code",
   "execution_count": 44,
   "metadata": {},
   "outputs": [],
   "source": [
    "data_copy.columns = ['example_id','text','aspect_term','term_location','class']"
   ]
  },
  {
   "cell_type": "code",
   "execution_count": 45,
   "metadata": {},
   "outputs": [],
   "source": [
    "countVectorizer = CountVectorizer()\n",
    "document_matrix = countVectorizer.fit_transform(data_copy['text'])"
   ]
  },
  {
   "cell_type": "code",
   "execution_count": 46,
   "metadata": {},
   "outputs": [
    {
     "data": {
      "text/plain": [
       "3246"
      ]
     },
     "execution_count": 46,
     "metadata": {},
     "output_type": "execute_result"
    }
   ],
   "source": [
    "vocab = list(countVectorizer.vocabulary_.keys())\n",
    "len(vocab)"
   ]
  },
  {
   "cell_type": "code",
   "execution_count": 47,
   "metadata": {},
   "outputs": [],
   "source": [
    "def pre_process(message):\n",
    "    message = message.replace(\"[comma]\",\",\")\n",
    "    message = \" \".join(wordpunct_tokenize(message))\n",
    "    nopunc = [char for char in message if char not in string.punctuation]\n",
    "    message = \"\".join(nopunc)\n",
    "    message = [text for text in message.strip().split() if text not in set(stopwords.words('english'))]    \n",
    "    message = \" \".join(message)\n",
    "    return word_tokenize(message)"
   ]
  },
  {
   "cell_type": "code",
   "execution_count": 48,
   "metadata": {},
   "outputs": [],
   "source": [
    "data_copy['text'] = data_copy['text'].apply(pre_process)"
   ]
  },
  {
   "cell_type": "code",
   "execution_count": 49,
   "metadata": {},
   "outputs": [
    {
     "data": {
      "text/plain": [
       "0    [Obviously, one, important, features, computer...\n",
       "1         [Good, every, day, computing, web, browsing]\n",
       "2    [keyboard, alright, plate, around, cheap, plas...\n",
       "3               [Again, problem, right, speaker, work]\n",
       "4               [My, problem, DELL, Customer, Service]\n",
       "Name: text, dtype: object"
      ]
     },
     "execution_count": 49,
     "metadata": {},
     "output_type": "execute_result"
    }
   ],
   "source": [
    "data_copy['text'].head()"
   ]
  },
  {
   "cell_type": "code",
   "execution_count": 50,
   "metadata": {},
   "outputs": [],
   "source": [
    "data_copy['mod_aspect_term'] = data_copy['aspect_term'].apply(pre_process)"
   ]
  },
  {
   "cell_type": "code",
   "execution_count": 51,
   "metadata": {},
   "outputs": [],
   "source": [
    "def calculate_weights(x):\n",
    "    text = x[0]\n",
    "    aspect = x[1]\n",
    "    if set(aspect) <= set(text):\n",
    "        left_weights = right_weights = []\n",
    "        sentence = \" \".join(text)\n",
    "        aspect_join = \" \".join(aspect)\n",
    "        start_list= [i for i, x in enumerate(text) if x == aspect[0]]\n",
    "        for q in (start_list):\n",
    "            if  text[(q + len(aspect) - 1)] == aspect[-1]:\n",
    "                start_index = q\n",
    "                end_index = q + len(aspect) - 1\n",
    "                break\n",
    "        if (end_index - start_index) == len(aspect) - 1:\n",
    "            left_text = text[:start_index]\n",
    "            right_text = text[end_index+1:]\n",
    "            left_weights = [1/i for i in range(len(left_text),0,-1) if len(left_text) != 0]\n",
    "            right_weights = [1/i for i in range(1,len(right_text)+1) if len(right_text) != 0]\n",
    "        tot_weights = left_weights + [2]*len(aspect) + right_weights\n",
    "        return dict(zip(text,tot_weights))\n",
    "    else: \n",
    "        return np.nan"
   ]
  },
  {
   "cell_type": "code",
   "execution_count": 52,
   "metadata": {},
   "outputs": [],
   "source": [
    "data_copy['weights_score'] = data_copy[['text','mod_aspect_term']].apply(calculate_weights, axis = 1)\n",
    "data_copy = data_copy.dropna()\n",
    "df_new = pd.DataFrame(np.zeros((len(data_copy),len(vocab))),columns=vocab)"
   ]
  },
  {
   "cell_type": "code",
   "execution_count": 59,
   "metadata": {},
   "outputs": [
    {
     "data": {
      "text/plain": [
       "0    {'Obviously': 0.2, 'one': 0.25, 'important': 0...\n",
       "1    {'Good': 1.0, 'every': 2, 'day': 2, 'computing...\n",
       "2    {'keyboard': 0.1, 'alright': 0.111111111111111...\n",
       "3    {'Again': 0.5, 'problem': 1.0, 'right': 2, 'sp...\n",
       "4    {'My': 0.5, 'problem': 1.0, 'DELL': 2, 'Custom...\n",
       "Name: weights_score, dtype: object"
      ]
     },
     "execution_count": 59,
     "metadata": {},
     "output_type": "execute_result"
    }
   ],
   "source": [
    "data_copy['weights_score'].head()"
   ]
  },
  {
   "cell_type": "code",
   "execution_count": 60,
   "metadata": {},
   "outputs": [],
   "source": [
    "for row in range(len(data_copy)):\n",
    "    for key,value in data_copy.iloc[row]['weights_score'].items():\n",
    "        df_new.iloc[row][key] = value\n",
    "\n",
    "tfidf= TfidfTransformer().fit_transform(df_new)"
   ]
  },
  {
   "cell_type": "markdown",
   "metadata": {},
   "source": [
    "### Cross Val on RBF SVM Kernel"
   ]
  },
  {
   "cell_type": "code",
   "execution_count": 61,
   "metadata": {},
   "outputs": [
    {
     "data": {
      "text/plain": [
       "0.42616992276238075"
      ]
     },
     "execution_count": 61,
     "metadata": {},
     "output_type": "execute_result"
    }
   ],
   "source": [
    "svc = SVC(C=1,random_state=0)\n",
    "pred_weight_svc = cross_val_predict(svc,tfidf,data_copy['class'],cv = 10)\n",
    "np.mean(pred_weight_svc == data_copy['class'])"
   ]
  },
  {
   "cell_type": "markdown",
   "metadata": {},
   "source": [
    "### Cross Val on Linear SVM kernel"
   ]
  },
  {
   "cell_type": "code",
   "execution_count": 62,
   "metadata": {},
   "outputs": [
    {
     "data": {
      "text/plain": [
       "0.7087687414811449"
      ]
     },
     "execution_count": 62,
     "metadata": {},
     "output_type": "execute_result"
    }
   ],
   "source": [
    "svm = LinearSVC(C=1.2,random_state=0)\n",
    "pred_weight_svm = cross_val_predict(svm,tfidf,data_copy['class'],cv = 10)\n",
    "np.mean(pred_weight_svm == data_copy['class'])"
   ]
  },
  {
   "cell_type": "markdown",
   "metadata": {},
   "source": [
    "### Cross Val on MultinomialNB"
   ]
  },
  {
   "cell_type": "code",
   "execution_count": 63,
   "metadata": {},
   "outputs": [
    {
     "data": {
      "text/plain": [
       "0.651976374375284"
      ]
     },
     "execution_count": 63,
     "metadata": {},
     "output_type": "execute_result"
    }
   ],
   "source": [
    "mnb = MultinomialNB()\n",
    "pred_weight_mnb = cross_val_predict(mnb,tfidf,data_copy['class'],cv = 10)\n",
    "np.mean(pred_weight_mnb == data_copy['class'])"
   ]
  },
  {
   "cell_type": "markdown",
   "metadata": {},
   "source": [
    "### Cross Val on Random Forest Classifier"
   ]
  },
  {
   "cell_type": "code",
   "execution_count": 64,
   "metadata": {},
   "outputs": [
    {
     "data": {
      "text/plain": [
       "0.7233075874602454"
      ]
     },
     "execution_count": 64,
     "metadata": {},
     "output_type": "execute_result"
    }
   ],
   "source": [
    "rfc = RandomForestClassifier(n_estimators=50,max_depth=1500,random_state=0)\n",
    "pred_weight_rfc = cross_val_predict(rfc,tfidf,data_copy['class'],cv = 10)\n",
    "np.mean(pred_weight_rfc == data_copy['class'])"
   ]
  },
  {
   "cell_type": "code",
   "execution_count": 65,
   "metadata": {},
   "outputs": [
    {
     "name": "stdout",
     "output_type": "stream",
     "text": [
      "\n",
      " Random Forrest Metrics\n",
      "               precision    recall  f1-score   support\n",
      "\n",
      "         -1       0.83      0.68      0.75      1008\n",
      "          0       0.39      0.68      0.50       254\n",
      "          1       0.78      0.78      0.78       939\n",
      "\n",
      "avg / total       0.76      0.72      0.73      2201\n",
      "\n"
     ]
    }
   ],
   "source": [
    "print(\"\\n Random Forrest Metrics\\n \", classification_report(pred_weight_rfc,data_copy['class']))"
   ]
  },
  {
   "cell_type": "markdown",
   "metadata": {},
   "source": [
    "# Holdout Method"
   ]
  },
  {
   "cell_type": "code",
   "execution_count": 66,
   "metadata": {},
   "outputs": [],
   "source": [
    "x_train,x_test,y_train,y_test = train_test_split(tfidf,data_copy['class'],test_size = 0.3,random_state = 0)"
   ]
  },
  {
   "cell_type": "markdown",
   "metadata": {},
   "source": [
    "#### Linear SVM "
   ]
  },
  {
   "cell_type": "code",
   "execution_count": 67,
   "metadata": {},
   "outputs": [
    {
     "data": {
      "text/plain": [
       "0.6959152798789713"
      ]
     },
     "execution_count": 67,
     "metadata": {},
     "output_type": "execute_result"
    }
   ],
   "source": [
    "model = LinearSVC(C=1.2,random_state=0).fit(X=x_train,y=y_train)\n",
    "model.score(x_test,y_test)"
   ]
  },
  {
   "cell_type": "markdown",
   "metadata": {},
   "source": [
    "#### Random Forrest"
   ]
  },
  {
   "cell_type": "code",
   "execution_count": 68,
   "metadata": {},
   "outputs": [
    {
     "data": {
      "text/plain": [
       "0.6853252647503782"
      ]
     },
     "execution_count": 68,
     "metadata": {},
     "output_type": "execute_result"
    }
   ],
   "source": [
    "model = RandomForestClassifier(n_estimators=50,max_depth=1500,random_state=0).fit(X=x_train,y=y_train)\n",
    "model.score(x_test,y_test)"
   ]
  },
  {
   "cell_type": "markdown",
   "metadata": {},
   "source": [
    "# Final Model using Random Forrest"
   ]
  },
  {
   "cell_type": "code",
   "execution_count": 69,
   "metadata": {},
   "outputs": [],
   "source": [
    "model = RandomForestClassifier(n_estimators=50,max_depth=1500,random_state=0).fit(tfidf,y=data_copy['class'])"
   ]
  },
  {
   "cell_type": "markdown",
   "metadata": {},
   "source": [
    "# Run final dataset"
   ]
  },
  {
   "cell_type": "code",
   "execution_count": 24,
   "metadata": {},
   "outputs": [],
   "source": [
    "test_data = pd.read_csv('Data-1_test.csv')\n"
   ]
  },
  {
   "cell_type": "code",
   "execution_count": 25,
   "metadata": {},
   "outputs": [],
   "source": [
    "test_data.columns = ['example_id','text','aspect_term','term_location']"
   ]
  },
  {
   "cell_type": "code",
   "execution_count": 28,
   "metadata": {},
   "outputs": [
    {
     "data": {
      "text/html": [
       "<div>\n",
       "<style scoped>\n",
       "    .dataframe tbody tr th:only-of-type {\n",
       "        vertical-align: middle;\n",
       "    }\n",
       "\n",
       "    .dataframe tbody tr th {\n",
       "        vertical-align: top;\n",
       "    }\n",
       "\n",
       "    .dataframe thead th {\n",
       "        text-align: right;\n",
       "    }\n",
       "</style>\n",
       "<table border=\"1\" class=\"dataframe\">\n",
       "  <thead>\n",
       "    <tr style=\"text-align: right;\">\n",
       "      <th></th>\n",
       "      <th>example_id</th>\n",
       "      <th>text</th>\n",
       "      <th>aspect_term</th>\n",
       "      <th>term_location</th>\n",
       "    </tr>\n",
       "  </thead>\n",
       "  <tbody>\n",
       "    <tr>\n",
       "      <th>0</th>\n",
       "      <td>494:1_0</td>\n",
       "      <td>Buy the separate RAM memory and you will have ...</td>\n",
       "      <td>RAM memory</td>\n",
       "      <td>17--27</td>\n",
       "    </tr>\n",
       "    <tr>\n",
       "      <th>1</th>\n",
       "      <td>311:18_1</td>\n",
       "      <td>But with this laptop[comma] the bass is very w...</td>\n",
       "      <td>sound</td>\n",
       "      <td>52--57</td>\n",
       "    </tr>\n",
       "    <tr>\n",
       "      <th>2</th>\n",
       "      <td>256:1_0</td>\n",
       "      <td>This hardware seems to be better than the iMac...</td>\n",
       "      <td>hardware</td>\n",
       "      <td>5--13</td>\n",
       "    </tr>\n",
       "    <tr>\n",
       "      <th>3</th>\n",
       "      <td>748:1_0</td>\n",
       "      <td>It is very easy to navigate even for a novice.</td>\n",
       "      <td>navigate</td>\n",
       "      <td>19--27</td>\n",
       "    </tr>\n",
       "    <tr>\n",
       "      <th>4</th>\n",
       "      <td>128:1_0</td>\n",
       "      <td>Amazing Performance for anything I throw at it.</td>\n",
       "      <td>Performance</td>\n",
       "      <td>8--19</td>\n",
       "    </tr>\n",
       "  </tbody>\n",
       "</table>\n",
       "</div>"
      ],
      "text/plain": [
       "  example_id                                               text  aspect_term  \\\n",
       "0    494:1_0  Buy the separate RAM memory and you will have ...   RAM memory   \n",
       "1   311:18_1  But with this laptop[comma] the bass is very w...        sound   \n",
       "2    256:1_0  This hardware seems to be better than the iMac...     hardware   \n",
       "3    748:1_0     It is very easy to navigate even for a novice.     navigate   \n",
       "4    128:1_0    Amazing Performance for anything I throw at it.  Performance   \n",
       "\n",
       "  term_location  \n",
       "0        17--27  \n",
       "1        52--57  \n",
       "2         5--13  \n",
       "3        19--27  \n",
       "4         8--19  "
      ]
     },
     "execution_count": 28,
     "metadata": {},
     "output_type": "execute_result"
    }
   ],
   "source": [
    "test_data.head()"
   ]
  },
  {
   "cell_type": "code",
   "execution_count": 29,
   "metadata": {},
   "outputs": [],
   "source": [
    "test_data['text'] = test_data['text'].apply(pre_process)"
   ]
  },
  {
   "cell_type": "code",
   "execution_count": 30,
   "metadata": {},
   "outputs": [],
   "source": [
    "test_data['mod_aspect_term'] = test_data['aspect_term'].apply(pre_process)"
   ]
  },
  {
   "cell_type": "code",
   "execution_count": 31,
   "metadata": {},
   "outputs": [],
   "source": [
    "test_data['weights_score'] = test_data[['text','mod_aspect_term']].apply(calculate_weights, axis = 1)\n",
    "test_data = test_data.dropna()\n",
    "df_test = pd.DataFrame(np.zeros((len(test_data),len(vocab))),columns=vocab)"
   ]
  },
  {
   "cell_type": "code",
   "execution_count": 32,
   "metadata": {},
   "outputs": [],
   "source": [
    "for row in range(len(test_data)):\n",
    "    for key,value in test_data.iloc[row]['weights_score'].items():\n",
    "        df_test.iloc[row][key] = value\n",
    "\n",
    "tfidf_test= TfidfTransformer().fit_transform(df_test)"
   ]
  },
  {
   "cell_type": "code",
   "execution_count": 33,
   "metadata": {},
   "outputs": [],
   "source": [
    "test_data['class']=(model.predict(tfidf_test))"
   ]
  },
  {
   "cell_type": "code",
   "execution_count": 34,
   "metadata": {},
   "outputs": [
    {
     "data": {
      "text/plain": [
       "0    0\n",
       "1    1\n",
       "2   -1\n",
       "3   -1\n",
       "4   -1\n",
       "Name: class, dtype: int64"
      ]
     },
     "execution_count": 34,
     "metadata": {},
     "output_type": "execute_result"
    }
   ],
   "source": [
    "data_copy['class'].head()"
   ]
  },
  {
   "cell_type": "code",
   "execution_count": null,
   "metadata": {},
   "outputs": [],
   "source": []
  }
 ],
 "metadata": {
  "kernelspec": {
   "display_name": "Python 3",
   "language": "python",
   "name": "python3"
  },
  "language_info": {
   "codemirror_mode": {
    "name": "ipython",
    "version": 3
   },
   "file_extension": ".py",
   "mimetype": "text/x-python",
   "name": "python",
   "nbconvert_exporter": "python",
   "pygments_lexer": "ipython3",
   "version": "3.6.5"
  }
 },
 "nbformat": 4,
 "nbformat_minor": 2
}
